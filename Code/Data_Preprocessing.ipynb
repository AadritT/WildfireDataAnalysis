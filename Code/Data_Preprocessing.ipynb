{
 "cells": [
  {
   "cell_type": "code",
   "execution_count": null,
   "id": "0e5b5c22",
   "metadata": {},
   "outputs": [],
   "source": [
    "import pandas as pd\n",
    "monthToSeason = {1: \"Winter\",\n",
    "                 2: \"Winter\",\n",
    "                 3: \"Spring\",\n",
    "                 4: \"Spring\",\n",
    "                 5: \"Spring\",\n",
    "                 6: \"Summer\",\n",
    "                 7: \"Summer\",\n",
    "                 8: \"Summer\",\n",
    "                 9: \"Fall\",\n",
    "                 10: \"Fall\",\n",
    "                 11: \"Fall\",\n",
    "                 12: \"Winter\"\n",
    "                }\n",
    "\n",
    "#returns month value from alarm date string\n",
    "def getMonth(date):\n",
    "    date = str(date)\n",
    "    return date.split(\"/\")[0]\n",
    "\n",
    "#returns date value from alarm date string\n",
    "def getDay(date):\n",
    "    date = str(date)\n",
    "    return date.split(\"/\")[1]\n",
    "\n",
    "#returns season value from the given month\n",
    "def getSeason(date):\n",
    "    return monthToSeason[int(getMonth(date))]\n",
    "\n",
    "#main preprocessing function to filter data by state+year\n",
    "#convert AlarmDate string to individual components\n",
    "def dataCleaner(fileName):\n",
    "\n",
    "    df = pd.read_csv(fileName)\n",
    "    df = df[df['State']=='CA']\n",
    "    df = df[(df['Year'] >= 2004) & (df['Year'] <= 2024)]\n",
    "    \n",
    "    df = df.filter(['Year', 'Agency', 'Unit ID', 'Alarm Date', 'Cause', 'GIS Calculated Acres'], axis=1)\n",
    "    df = df.dropna(how='any',axis=0)\n",
    "    \n",
    "    df = df.rename({'GIS Calculated Acres' : 'Size'}, axis=1)\n",
    "    \n",
    "    df['Month'] = df['Alarm Date'].apply(getMonth)\n",
    "    df['Day'] = df['Alarm Date'].apply(getDay)\n",
    "    df['Season'] = df['Alarm Date'].apply(getSeason)\n",
    "    \n",
    "    #drop unused column, all data extracted\n",
    "    df = df.drop(columns=[\"Alarm Date\"])\n",
    "    \n",
    "    #rename column for better readability\n",
    "    df = df.reindex(columns = ['Year', 'Season', 'Month', 'Day', 'Agency', 'Unit ID', 'Size', 'Cause'])\n",
    "    \n",
    "    return df\n",
    "\n",
    "\n",
    "df_fires = dataCleaner('../Data/Input/CA_Fire_Perimeter_ALL.csv')\n",
    "df_fires.to_csv('../Data/PreprocessedData/CA_Fire_Perimeter_FILTERED.csv', index=False)\n",
    "\n",
    "print(df_fires)"
   ]
  }
 ],
 "metadata": {
  "kernelspec": {
   "display_name": "Python 3 (ipykernel)",
   "language": "python",
   "name": "python3"
  },
  "language_info": {
   "codemirror_mode": {
    "name": "ipython",
    "version": 3
   },
   "file_extension": ".py",
   "mimetype": "text/x-python",
   "name": "python",
   "nbconvert_exporter": "python",
   "pygments_lexer": "ipython3",
   "version": "3.11.3"
  },
  "varInspector": {
   "cols": {
    "lenName": 16,
    "lenType": 16,
    "lenVar": 40
   },
   "kernels_config": {
    "python": {
     "delete_cmd_postfix": "",
     "delete_cmd_prefix": "del ",
     "library": "var_list.py",
     "varRefreshCmd": "print(var_dic_list())"
    },
    "r": {
     "delete_cmd_postfix": ") ",
     "delete_cmd_prefix": "rm(",
     "library": "var_list.r",
     "varRefreshCmd": "cat(var_dic_list()) "
    }
   },
   "types_to_exclude": [
    "module",
    "function",
    "builtin_function_or_method",
    "instance",
    "_Feature"
   ],
   "window_display": false
  }
 },
 "nbformat": 4,
 "nbformat_minor": 5
}
